{
 "cells": [
  {
   "cell_type": "code",
   "id": "initial_id",
   "metadata": {
    "collapsed": true,
    "ExecuteTime": {
     "end_time": "2024-06-27T18:39:44.348050Z",
     "start_time": "2024-06-27T18:39:10.725265Z"
    }
   },
   "source": [
    "import chromadb\n",
    "\n",
    "client = chromadb.PersistentClient(path=\"/Users/tazarov/experiments/amikos/oss/chroma-hfds/testds-5M-wc-idx/chroma-data\")\n",
    "\n"
   ],
   "outputs": [],
   "execution_count": 1
  },
  {
   "metadata": {
    "ExecuteTime": {
     "end_time": "2024-06-27T18:39:44.603589Z",
     "start_time": "2024-06-27T18:39:44.349029Z"
    }
   },
   "cell_type": "code",
   "source": [
    "col = client.get_collection(\"test\")\n",
    "\n",
    "col.count()"
   ],
   "id": "c6cb8d03576116a9",
   "outputs": [
    {
     "data": {
      "text/plain": [
       "5000000"
      ]
     },
     "execution_count": 2,
     "metadata": {},
     "output_type": "execute_result"
    }
   ],
   "execution_count": 2
  },
  {
   "metadata": {
    "ExecuteTime": {
     "end_time": "2024-06-27T18:39:48.837681Z",
     "start_time": "2024-06-27T18:39:47.127678Z"
    }
   },
   "cell_type": "code",
   "source": "col.get(where={\"aps\" : \"fulati\"})",
   "id": "f30bbdddf1d5c6ea",
   "outputs": [
    {
     "name": "stdout",
     "output_type": "stream",
     "text": [
      "SQL ('SELECT \"embeddings\".\"id\",\"embeddings\".\"embedding_id\",\"embeddings\".\"seq_id\",\"embedding_metadata\".\"key\",\"embedding_metadata\".\"string_value\",\"embedding_metadata\".\"int_value\",\"embedding_metadata\".\"float_value\",\"embedding_metadata\".\"bool_value\" FROM \"embeddings\" LEFT JOIN \"embedding_metadata\" ON \"embeddings\".\"id\"=\"embedding_metadata\".\"id\" WHERE \"embeddings\".\"id\" IN (SELECT DISTINCT \"embedding_metadata\".\"id\" FROM \"embedding_metadata\" JOIN \"embeddings\" ON \"embeddings\".\"id\"=\"embedding_metadata\".\"id\" WHERE \"embeddings\".\"segment_id\"=? AND \"embedding_metadata\".\"id\" IN (SELECT \"id\" FROM \"embedding_metadata\" WHERE \"key\"=? AND \"segment_id\"=? AND \"key\"<>\\'chroma:document\\' AND \"string_value\"=?) ORDER BY \"embeddings\".\"embedding_id\" LIMIT 9223372036854775807) ORDER BY \"embeddings\".\"embedding_id\"', ('8d3116c7-50c6-41ae-8cc8-6df92de198d3', 'aps', '8d3116c7-50c6-41ae-8cc8-6df92de198d3', 'fulati'))\n"
     ]
    },
    {
     "data": {
      "text/plain": [
       "{'ids': ['6de26828-35c0-45e8-bce7-5fca1c17d5d1'],\n",
       " 'embeddings': None,\n",
       " 'metadatas': [{'aps': 'fulati',\n",
       "   'float_val': 299.49089605562483,\n",
       "   'int_val': 529,\n",
       "   'is': 'Lostas',\n",
       "   'porome': 'ist',\n",
       "   'the': 'ca'}],\n",
       " 'documents': ['Has elapsed. sunrise. They typically'],\n",
       " 'uris': None,\n",
       " 'data': None,\n",
       " 'included': ['metadatas', 'documents']}"
      ]
     },
     "execution_count": 3,
     "metadata": {},
     "output_type": "execute_result"
    }
   ],
   "execution_count": 3
  },
  {
   "metadata": {},
   "cell_type": "code",
   "outputs": [],
   "execution_count": null,
   "source": "",
   "id": "afe8903fb2e9e762"
  }
 ],
 "metadata": {
  "kernelspec": {
   "display_name": "Python 3",
   "language": "python",
   "name": "python3"
  },
  "language_info": {
   "codemirror_mode": {
    "name": "ipython",
    "version": 2
   },
   "file_extension": ".py",
   "mimetype": "text/x-python",
   "name": "python",
   "nbconvert_exporter": "python",
   "pygments_lexer": "ipython2",
   "version": "2.7.6"
  }
 },
 "nbformat": 4,
 "nbformat_minor": 5
}
